{
 "cells": [
  {
   "cell_type": "code",
   "execution_count": 1,
   "metadata": {},
   "outputs": [],
   "source": [
    "from __future__ import print_function\n",
    "\n",
    "import keras\n",
    "from keras.datasets import mnist\n",
    "from keras.models import Sequential\n",
    "from keras.layers import Dense, Dropout\n",
    "from keras.optimizers import RMSprop"
   ]
  },
  {
   "cell_type": "code",
   "execution_count": 2,
   "metadata": {},
   "outputs": [],
   "source": [
    "batch_size = 128\n",
    "num_classes = 10\n",
    "epochs = 20"
   ]
  },
  {
   "cell_type": "code",
   "execution_count": 3,
   "metadata": {},
   "outputs": [],
   "source": [
    "(x_train, y_train), (x_test, y_test) = mnist.load_data()"
   ]
  },
  {
   "cell_type": "code",
   "execution_count": 38,
   "metadata": {},
   "outputs": [],
   "source": [
    "x_train=x_train.reshape(60000,784).astype('float32')\n",
    "x_test=x_test.reshape(10000,784).astype('float32')"
   ]
  },
  {
   "cell_type": "code",
   "execution_count": 40,
   "metadata": {},
   "outputs": [],
   "source": [
    "x_train/=255\n",
    "x_test/=255"
   ]
  },
  {
   "cell_type": "code",
   "execution_count": 42,
   "metadata": {},
   "outputs": [
    {
     "name": "stdout",
     "output_type": "stream",
     "text": [
      "60000 train samples\n",
      "10000 test samples\n"
     ]
    }
   ],
   "source": [
    "print(x_train.shape[0], 'train samples')\n",
    "print(x_test.shape[0], 'test samples')"
   ]
  },
  {
   "cell_type": "code",
   "execution_count": 49,
   "metadata": {},
   "outputs": [],
   "source": [
    "y_train = keras.utils.to_categorical(y_train, num_classes)\n",
    "y_test = keras.utils.to_categorical(y_test, num_classes)"
   ]
  },
  {
   "cell_type": "code",
   "execution_count": 50,
   "metadata": {},
   "outputs": [],
   "source": [
    "model = Sequential()\n",
    "model.add(Dense(512, activation='relu', input_shape=(784,)))\n",
    "model.add(Dropout(0.2))\n",
    "model.add(Dense(512, activation='relu'))\n",
    "model.add(Dropout(0.2))\n",
    "model.add(Dense(num_classes, activation='softmax'))"
   ]
  },
  {
   "cell_type": "code",
   "execution_count": 51,
   "metadata": {},
   "outputs": [
    {
     "name": "stdout",
     "output_type": "stream",
     "text": [
      "Model: \"sequential_1\"\n",
      "_________________________________________________________________\n",
      "Layer (type)                 Output Shape              Param #   \n",
      "=================================================================\n",
      "dense_1 (Dense)              (None, 512)               401920    \n",
      "_________________________________________________________________\n",
      "dropout_1 (Dropout)          (None, 512)               0         \n",
      "_________________________________________________________________\n",
      "dense_2 (Dense)              (None, 512)               262656    \n",
      "_________________________________________________________________\n",
      "dropout_2 (Dropout)          (None, 512)               0         \n",
      "_________________________________________________________________\n",
      "dense_3 (Dense)              (None, 10)                5130      \n",
      "=================================================================\n",
      "Total params: 669,706\n",
      "Trainable params: 669,706\n",
      "Non-trainable params: 0\n",
      "_________________________________________________________________\n"
     ]
    }
   ],
   "source": [
    "model.summary()"
   ]
  },
  {
   "cell_type": "code",
   "execution_count": 52,
   "metadata": {},
   "outputs": [],
   "source": [
    "model.compile(loss='categorical_crossentropy',\n",
    "              optimizer=RMSprop(),\n",
    "              metrics=['accuracy'])"
   ]
  },
  {
   "cell_type": "code",
   "execution_count": 53,
   "metadata": {},
   "outputs": [
    {
     "name": "stdout",
     "output_type": "stream",
     "text": [
      "Train on 60000 samples, validate on 10000 samples\n",
      "Epoch 1/20\n",
      "60000/60000 [==============================] - 7s 123us/step - loss: 0.2457 - accuracy: 0.9248 - val_loss: 0.1301 - val_accuracy: 0.9589\n",
      "Epoch 2/20\n",
      "60000/60000 [==============================] - 7s 116us/step - loss: 0.1014 - accuracy: 0.9698 - val_loss: 0.0873 - val_accuracy: 0.9744\n",
      "Epoch 3/20\n",
      "60000/60000 [==============================] - 7s 112us/step - loss: 0.0744 - accuracy: 0.9780 - val_loss: 0.0785 - val_accuracy: 0.9773\n",
      "Epoch 4/20\n",
      "60000/60000 [==============================] - 6s 100us/step - loss: 0.0595 - accuracy: 0.9822 - val_loss: 0.0734 - val_accuracy: 0.9783\n",
      "Epoch 5/20\n",
      "60000/60000 [==============================] - 6s 98us/step - loss: 0.0496 - accuracy: 0.9853 - val_loss: 0.0707 - val_accuracy: 0.9812\n",
      "Epoch 6/20\n",
      "60000/60000 [==============================] - 6s 102us/step - loss: 0.0447 - accuracy: 0.9869 - val_loss: 0.0894 - val_accuracy: 0.9777\n",
      "Epoch 7/20\n",
      "60000/60000 [==============================] - 6s 98us/step - loss: 0.0384 - accuracy: 0.9886 - val_loss: 0.0911 - val_accuracy: 0.9788loss:\n",
      "Epoch 8/20\n",
      "60000/60000 [==============================] - 6s 102us/step - loss: 0.0346 - accuracy: 0.9902 - val_loss: 0.0848 - val_accuracy: 0.9822\n",
      "Epoch 9/20\n",
      "60000/60000 [==============================] - 6s 103us/step - loss: 0.0316 - accuracy: 0.9910 - val_loss: 0.0808 - val_accuracy: 0.9820\n",
      "Epoch 10/20\n",
      "60000/60000 [==============================] - 6s 99us/step - loss: 0.0273 - accuracy: 0.9918 - val_loss: 0.0857 - val_accuracy: 0.9851\n",
      "Epoch 11/20\n",
      "60000/60000 [==============================] - 6s 103us/step - loss: 0.0261 - accuracy: 0.9924 - val_loss: 0.1000 - val_accuracy: 0.9815\n",
      "Epoch 12/20\n",
      "60000/60000 [==============================] - 6s 103us/step - loss: 0.0244 - accuracy: 0.9929 - val_loss: 0.1106 - val_accuracy: 0.9803\n",
      "Epoch 13/20\n",
      "60000/60000 [==============================] - 6s 103us/step - loss: 0.0230 - accuracy: 0.9935 - val_loss: 0.1079 - val_accuracy: 0.9806\n",
      "Epoch 14/20\n",
      "60000/60000 [==============================] - 7s 111us/step - loss: 0.0230 - accuracy: 0.9932 - val_loss: 0.1004 - val_accuracy: 0.9827\n",
      "Epoch 15/20\n",
      "60000/60000 [==============================] - 7s 119us/step - loss: 0.0210 - accuracy: 0.9942 - val_loss: 0.0983 - val_accuracy: 0.9840\n",
      "Epoch 16/20\n",
      "60000/60000 [==============================] - 7s 123us/step - loss: 0.0215 - accuracy: 0.9942 - val_loss: 0.1026 - val_accuracy: 0.9840\n",
      "Epoch 17/20\n",
      "60000/60000 [==============================] - 7s 118us/step - loss: 0.0192 - accuracy: 0.9946 - val_loss: 0.1212 - val_accuracy: 0.9839\n",
      "Epoch 18/20\n",
      "60000/60000 [==============================] - 7s 123us/step - loss: 0.0191 - accuracy: 0.9952 - val_loss: 0.1283 - val_accuracy: 0.9810\n",
      "Epoch 19/20\n",
      "60000/60000 [==============================] - 7s 121us/step - loss: 0.0171 - accuracy: 0.9952 - val_loss: 0.1299 - val_accuracy: 0.9828\n",
      "Epoch 20/20\n",
      "60000/60000 [==============================] - 7s 116us/step - loss: 0.0180 - accuracy: 0.9954 - val_loss: 0.1253 - val_accuracy: 0.9837\n"
     ]
    }
   ],
   "source": [
    "history = model.fit(x_train, y_train,\n",
    "                    batch_size=batch_size,\n",
    "                    epochs=epochs,\n",
    "                    verbose=1,\n",
    "                    validation_data=(x_test, y_test))"
   ]
  },
  {
   "cell_type": "code",
   "execution_count": 58,
   "metadata": {},
   "outputs": [
    {
     "name": "stdout",
     "output_type": "stream",
     "text": [
      "Test loss: 0.12527820501072662\n",
      "Test accuracy: 0.9836999773979187\n"
     ]
    }
   ],
   "source": [
    "score = model.evaluate(x_test, y_test, verbose=0)\n",
    "print('Test loss:', score[0])\n",
    "print('Test accuracy:', score[1])"
   ]
  },
  {
   "cell_type": "code",
   "execution_count": 64,
   "metadata": {},
   "outputs": [
    {
     "name": "stdout",
     "output_type": "stream",
     "text": [
      "dict_keys(['val_loss', 'val_accuracy', 'loss', 'accuracy'])\n"
     ]
    },
    {
     "data": {
      "image/png": "[encoded data removed]",
      "text/plain": [
       "<Figure size 432x288 with 1 Axes>"
      ]
     },
     "metadata": {
      "needs_background": "light"
     },
     "output_type": "display_data"
    },
    {
     "data": {
      "image/png": "[encoded data removed]",
      "text/plain": [
       "<Figure size 432x288 with 1 Axes>"
      ]
     },
     "metadata": {
      "needs_background": "light"
     },
     "output_type": "display_data"
    }
   ],
   "source": [
    "# list all data in history\n",
    "print(history.history.keys())\n",
    "# summarize history for accuracy\n",
    "plt.plot(history.history['accuracy'])\n",
    "plt.plot(history.history['val_accuracy'])\n",
    "plt.title('model accuracy')\n",
    "plt.ylabel('accuracy')\n",
    "plt.xlabel('epoch')\n",
    "plt.legend(['train', 'test'], loc='upper left')\n",
    "plt.show()\n",
    "# summarize history for loss\n",
    "plt.plot(history.history['loss'])\n",
    "plt.plot(history.history['val_loss'])\n",
    "plt.title('model loss')\n",
    "plt.ylabel('loss')\n",
    "plt.xlabel('epoch')\n",
    "plt.legend(['train', 'test'], loc='upper left')\n",
    "plt.show()"
   ]
  },
  {
   "cell_type": "code",
   "execution_count": null,
   "metadata": {},
   "outputs": [],
   "source": []
  }
 ],
 "metadata": {
  "kernelspec": {
   "display_name": "Python 3",
   "language": "python",
   "name": "python3"
  },
  "language_info": {
   "codemirror_mode": {
    "name": "ipython",
    "version": 3
   },
   "file_extension": ".py",
   "mimetype": "text/x-python",
   "name": "python",
   "nbconvert_exporter": "python",
   "pygments_lexer": "ipython3",
   "version": "3.7.7"
  }
 },
 "nbformat": 4,
 "nbformat_minor": 4
}
